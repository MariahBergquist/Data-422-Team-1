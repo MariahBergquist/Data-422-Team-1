{
 "cells": [
  {
   "cell_type": "markdown",
   "id": "03b35e94",
   "metadata": {},
   "source": [
    "# Data Exploration\n",
    "Mariah Bergquist, Matti Betts, Kikzely Avalos, David Aaby\n"
   ]
  },
  {
   "cell_type": "code",
   "execution_count": 2,
   "id": "ff398721",
   "metadata": {},
   "outputs": [],
   "source": [
    "import numpy as np\n",
    "import pandas as pd\n",
    "import seaborn as sns\n",
    "import matplotlib.pyplot as plt\n",
    "import time\n",
    "\n",
    "#Cleaning the SPD dataset\n",
    "SPD = pd.DataFrame(pd.read_csv(\"./SPD_CLEAN.csv\"))\n",
    "SPD.isnull().sum()\n",
    "SPD = SPD.dropna(subset = ['Years of SPD Service','Officer Injured', 'Subject DOB', 'Subject Age', 'Type of Weapon', 'Disposition', 'Officer Disciplined?'])\n",
    "\n",
    "#Cleaning the Crime dataset\n",
    "Crime = pd.DataFrame(pd.read_csv(\"./SPD_Crime_Data__2008-Present_20241017.csv\"))\n",
    "Crime.isnull().sum()\n",
    "Crime = Crime.dropna(subset = ['Offense Start DateTime','Offense End DateTime', 'Precinct', 'Sector', 'Beat', 'MCPP', '100 Block Address'])\n",
    "\n",
    "#Merging them to create a new dataset\n",
    "merged_df = pd.merge(Crime, SPD, on = ['Latitude', 'Longitude'])\n"
   ]
  },
  {
   "cell_type": "markdown",
   "id": "065b58c4",
   "metadata": {},
   "source": [
    "\n",
    "Introduction:\n",
    "\n",
    "For our project, we are going to examine how fatal versus non-fatal shootings affect crime rates in different areas of Seattle. Further, we would like to determine if any factors like an officer’s years of service or disposition of crime (justified or unjustified) play a role in crime rates as well.\n",
    "\n",
    "Crime Rates - https://data.seattle.gov/Public-Safety/SPD-Crime-Data-2008-Present/tazs-3rd5/about_data\n",
    "\n",
    "SPD Officer Shooting - https://data.seattle.gov/Public-Safety/SPD-Officer-Involved-Shooting-OIS-Data/mg5r-efcm/about_data \n",
    "\n"
   ]
  },
  {
   "cell_type": "markdown",
   "id": "74b49e83",
   "metadata": {},
   "source": [
    "\n",
    "Overview of data engineering efforts:\n",
    "\n",
    "After we found our two datasets that we were going to use for our project it was obvious they needed to be cleaned up. We were facing a lot of issues with NULL values and columns of data that we were not planning on using. To start off I deleted a few rows that we didn't plan on using in our analysis like, if the officer was on duty or not. After removing all of the columns that we didn't plan on using I decided to find all the NULL values and delete those respective rows. \n",
    "\n",
    "I started with the SPD Office Shooting dataset first. I used a function to find all Null values and add the amount of NULL values for each column. Then I used a df.dropna() function to drop all the NULL values in each row that had NULL values. Then I created a new df called SPD that had the clean dataset in it. \n",
    "\n",
    "Next I moved on to the Crime Rates dataset where I repeated the same steps as before. I made sure to remove the columns that were not relevant to our analysis. I summed up all of the NULL values and used the same function to drop the rows that contained any NULL values. Then I created it to be a new dataframe called Crime.\n",
    "\n",
    "We then had to join the datasets. We wanted to join it based on location of the crimes and shootings to see if we have any relation in location between both datasets. To do this we did a merge of both datasets on Latitude, Longitude. After everything was cleaned we started to do the exploration process. To do this, we started with different plots including a histogram, bar plots, heat maps, geospatial analysis, clustering analysis, and correlation analysis. \n"
   ]
  },
  {
   "cell_type": "markdown",
   "id": "a0d73423",
   "metadata": {},
   "source": [
    "\n",
    "Data Visualizations:\n",
    "\n",
    "Since we decided to go in a different direction with our project, we had to find a new dataset to replace our hospital admission datasets. With that came the need of new visualizations to reflect the new variables.\n"
   ]
  },
  {
   "cell_type": "code",
   "execution_count": 4,
   "id": "13627098",
   "metadata": {},
   "outputs": [
    {
     "data": {
      "image/png": "[encoded data removed]",
      "text/plain": [
       "<Figure size 720x432 with 1 Axes>"
      ]
     },
     "metadata": {
      "needs_background": "light"
     },
     "output_type": "display_data"
    }
   ],
   "source": [
    "#Bar plot - Officer Years vs Disposition \n",
    "SPD['Years of SPD Service'] = pd.to_numeric(SPD['Years of SPD Service'], errors='coerce')\n",
    "plt.figure(figsize=(10, 6))\n",
    "sns.barplot(data= SPD,x='Disposition', y='Years of SPD Service', palette = 'coolwarm')\n",
    "plt.title('Officer Years of Service vs Disposition (Justified/Unjustified)', fontsize =16)\n",
    "plt.xlabel('Dispoition', fontsize=12)\n",
    "plt.ylabel('Years of SPD Service', fontsize = 12)\n",
    "plt.show()"
   ]
  },
  {
   "cell_type": "markdown",
   "id": "f0beb129",
   "metadata": {},
   "source": [
    "The bar plot is comparing years of services to different disposition categories such as justified, not justified, and missing. Officers involved in incidents classified as Justified have the highest average years of service at around 11 years. From this, we can suggest that officers with more experience tend to have a justified disposition from incidents where the officer fired a gun at the subject. Incidents marked as Not Justified had the lowest years of service at 2 years. This leads us to think that officers with less than 3 years of experience tend to be more involved in incidents where their firing a gun is seen as unjustified. As for Within Policy and Out of Policy, these dispositions had 9 and 6 years of service, respectively. There seems to be a middle ground for police officers with less than 10 years in service. "
   ]
  },
  {
   "cell_type": "code",
   "execution_count": 7,
   "id": "258d6e0a",
   "metadata": {},
   "outputs": [
    {
     "data": {
      "text/html": [
       "<div>\n",
       "<style scoped>\n",
       "    .dataframe tbody tr th:only-of-type {\n",
       "        vertical-align: middle;\n",
       "    }\n",
       "\n",
       "    .dataframe tbody tr th {\n",
       "        vertical-align: top;\n",
       "    }\n",
       "\n",
       "    .dataframe thead th {\n",
       "        text-align: right;\n",
       "    }\n",
       "</style>\n",
       "<table border=\"1\" class=\"dataframe\">\n",
       "  <thead>\n",
       "    <tr style=\"text-align: right;\">\n",
       "      <th></th>\n",
       "      <th>Report Number</th>\n",
       "      <th>Offense Start DateTime</th>\n",
       "      <th>Offense End DateTime</th>\n",
       "      <th>Report DateTime</th>\n",
       "      <th>Group A B</th>\n",
       "      <th>Crime Against Category</th>\n",
       "      <th>Offense Parent Group</th>\n",
       "      <th>Offense</th>\n",
       "      <th>Offense Code</th>\n",
       "      <th>Precinct</th>\n",
       "      <th>...</th>\n",
       "      <th>Subject Gender</th>\n",
       "      <th>Subject Race</th>\n",
       "      <th>Subject DOB</th>\n",
       "      <th>Subject Age</th>\n",
       "      <th>Subject Weapon</th>\n",
       "      <th>Type of Weapon</th>\n",
       "      <th>Fatal</th>\n",
       "      <th>Disposition</th>\n",
       "      <th>Officer Disciplined?</th>\n",
       "      <th>Summary</th>\n",
       "    </tr>\n",
       "  </thead>\n",
       "  <tbody>\n",
       "    <tr>\n",
       "      <th>count</th>\n",
       "      <td>11</td>\n",
       "      <td>11</td>\n",
       "      <td>11</td>\n",
       "      <td>11</td>\n",
       "      <td>11</td>\n",
       "      <td>11</td>\n",
       "      <td>11</td>\n",
       "      <td>11</td>\n",
       "      <td>11</td>\n",
       "      <td>11</td>\n",
       "      <td>...</td>\n",
       "      <td>11</td>\n",
       "      <td>11</td>\n",
       "      <td>11</td>\n",
       "      <td>11</td>\n",
       "      <td>11</td>\n",
       "      <td>11</td>\n",
       "      <td>11</td>\n",
       "      <td>11</td>\n",
       "      <td>11</td>\n",
       "      <td>11</td>\n",
       "    </tr>\n",
       "    <tr>\n",
       "      <th>unique</th>\n",
       "      <td>6</td>\n",
       "      <td>6</td>\n",
       "      <td>6</td>\n",
       "      <td>6</td>\n",
       "      <td>2</td>\n",
       "      <td>2</td>\n",
       "      <td>5</td>\n",
       "      <td>5</td>\n",
       "      <td>5</td>\n",
       "      <td>3</td>\n",
       "      <td>...</td>\n",
       "      <td>1</td>\n",
       "      <td>2</td>\n",
       "      <td>4</td>\n",
       "      <td>4</td>\n",
       "      <td>1</td>\n",
       "      <td>4</td>\n",
       "      <td>2</td>\n",
       "      <td>1</td>\n",
       "      <td>1</td>\n",
       "      <td>3</td>\n",
       "    </tr>\n",
       "    <tr>\n",
       "      <th>top</th>\n",
       "      <td>2022-921175</td>\n",
       "      <td>04/20/2023 04:00:00 PM</td>\n",
       "      <td>04/25/2023 08:00:00 PM</td>\n",
       "      <td>09/29/2022 06:33:40 AM</td>\n",
       "      <td>A</td>\n",
       "      <td>PROPERTY</td>\n",
       "      <td>LARCENY-THEFT</td>\n",
       "      <td>All Other Larceny</td>\n",
       "      <td>23H</td>\n",
       "      <td>E</td>\n",
       "      <td>...</td>\n",
       "      <td>Male</td>\n",
       "      <td>White</td>\n",
       "      <td>3/8/1988</td>\n",
       "      <td>18</td>\n",
       "      <td>Yes</td>\n",
       "      <td>Colt Revolver</td>\n",
       "      <td>Yes</td>\n",
       "      <td>Justified</td>\n",
       "      <td>No</td>\n",
       "      <td>On April 25th, 2006, at approximately 8:20 P.M...</td>\n",
       "    </tr>\n",
       "    <tr>\n",
       "      <th>freq</th>\n",
       "      <td>2</td>\n",
       "      <td>2</td>\n",
       "      <td>2</td>\n",
       "      <td>2</td>\n",
       "      <td>9</td>\n",
       "      <td>9</td>\n",
       "      <td>4</td>\n",
       "      <td>4</td>\n",
       "      <td>4</td>\n",
       "      <td>6</td>\n",
       "      <td>...</td>\n",
       "      <td>11</td>\n",
       "      <td>7</td>\n",
       "      <td>6</td>\n",
       "      <td>6</td>\n",
       "      <td>11</td>\n",
       "      <td>6</td>\n",
       "      <td>6</td>\n",
       "      <td>11</td>\n",
       "      <td>11</td>\n",
       "      <td>6</td>\n",
       "    </tr>\n",
       "  </tbody>\n",
       "</table>\n",
       "<p>4 rows × 31 columns</p>\n",
       "</div>"
      ],
      "text/plain": [
       "       Report Number  Offense Start DateTime    Offense End DateTime  \\\n",
       "count             11                      11                      11   \n",
       "unique             6                       6                       6   \n",
       "top      2022-921175  04/20/2023 04:00:00 PM  04/25/2023 08:00:00 PM   \n",
       "freq               2                       2                       2   \n",
       "\n",
       "               Report DateTime Group A B Crime Against Category  \\\n",
       "count                       11        11                     11   \n",
       "unique                       6         2                      2   \n",
       "top     09/29/2022 06:33:40 AM         A               PROPERTY   \n",
       "freq                         2         9                      9   \n",
       "\n",
       "       Offense Parent Group            Offense Offense Code Precinct  ...  \\\n",
       "count                    11                 11           11       11  ...   \n",
       "unique                    5                  5            5        3  ...   \n",
       "top           LARCENY-THEFT  All Other Larceny          23H        E  ...   \n",
       "freq                      4                  4            4        6  ...   \n",
       "\n",
       "       Subject Gender Subject Race Subject DOB Subject Age Subject Weapon  \\\n",
       "count              11           11          11          11             11   \n",
       "unique              1            2           4           4              1   \n",
       "top              Male        White    3/8/1988          18            Yes   \n",
       "freq               11            7           6           6             11   \n",
       "\n",
       "       Type of Weapon Fatal Disposition Officer Disciplined?  \\\n",
       "count              11    11          11                   11   \n",
       "unique              4     2           1                    1   \n",
       "top     Colt Revolver   Yes   Justified                   No   \n",
       "freq                6     6          11                   11   \n",
       "\n",
       "                                                  Summary  \n",
       "count                                                  11  \n",
       "unique                                                  3  \n",
       "top     On April 25th, 2006, at approximately 8:20 P.M...  \n",
       "freq                                                    6  \n",
       "\n",
       "[4 rows x 31 columns]"
      ]
     },
     "execution_count": 7,
     "metadata": {},
     "output_type": "execute_result"
    }
   ],
   "source": [
    "#Descriptive Statistics \n",
    "#Categorical\n",
    "merged_df.describe(include = 'object')"
   ]
  },
  {
   "cell_type": "code",
   "execution_count": 8,
   "id": "8ff65f2b",
   "metadata": {},
   "outputs": [
    {
     "data": {
      "text/html": [
       "<div>\n",
       "<style scoped>\n",
       "    .dataframe tbody tr th:only-of-type {\n",
       "        vertical-align: middle;\n",
       "    }\n",
       "\n",
       "    .dataframe tbody tr th {\n",
       "        vertical-align: top;\n",
       "    }\n",
       "\n",
       "    .dataframe thead th {\n",
       "        text-align: right;\n",
       "    }\n",
       "</style>\n",
       "<table border=\"1\" class=\"dataframe\">\n",
       "  <thead>\n",
       "    <tr style=\"text-align: right;\">\n",
       "      <th></th>\n",
       "      <th>Offense ID</th>\n",
       "      <th>Longitude</th>\n",
       "      <th>Latitude</th>\n",
       "    </tr>\n",
       "  </thead>\n",
       "  <tbody>\n",
       "    <tr>\n",
       "      <th>count</th>\n",
       "      <td>1.100000e+01</td>\n",
       "      <td>11.000000</td>\n",
       "      <td>11.000000</td>\n",
       "    </tr>\n",
       "    <tr>\n",
       "      <th>mean</th>\n",
       "      <td>3.447742e+10</td>\n",
       "      <td>-122.328849</td>\n",
       "      <td>47.616766</td>\n",
       "    </tr>\n",
       "    <tr>\n",
       "      <th>std</th>\n",
       "      <td>1.366141e+10</td>\n",
       "      <td>0.022665</td>\n",
       "      <td>0.024539</td>\n",
       "    </tr>\n",
       "    <tr>\n",
       "      <th>min</th>\n",
       "      <td>1.280086e+10</td>\n",
       "      <td>-122.397053</td>\n",
       "      <td>47.595833</td>\n",
       "    </tr>\n",
       "    <tr>\n",
       "      <th>25%</th>\n",
       "      <td>2.792925e+10</td>\n",
       "      <td>-122.323764</td>\n",
       "      <td>47.595833</td>\n",
       "    </tr>\n",
       "    <tr>\n",
       "      <th>50%</th>\n",
       "      <td>3.408110e+10</td>\n",
       "      <td>-122.320873</td>\n",
       "      <td>47.619908</td>\n",
       "    </tr>\n",
       "    <tr>\n",
       "      <th>75%</th>\n",
       "      <td>4.399453e+10</td>\n",
       "      <td>-122.320873</td>\n",
       "      <td>47.619908</td>\n",
       "    </tr>\n",
       "    <tr>\n",
       "      <th>max</th>\n",
       "      <td>5.365112e+10</td>\n",
       "      <td>-122.320873</td>\n",
       "      <td>47.681649</td>\n",
       "    </tr>\n",
       "  </tbody>\n",
       "</table>\n",
       "</div>"
      ],
      "text/plain": [
       "         Offense ID   Longitude   Latitude\n",
       "count  1.100000e+01   11.000000  11.000000\n",
       "mean   3.447742e+10 -122.328849  47.616766\n",
       "std    1.366141e+10    0.022665   0.024539\n",
       "min    1.280086e+10 -122.397053  47.595833\n",
       "25%    2.792925e+10 -122.323764  47.595833\n",
       "50%    3.408110e+10 -122.320873  47.619908\n",
       "75%    4.399453e+10 -122.320873  47.619908\n",
       "max    5.365112e+10 -122.320873  47.681649"
      ]
     },
     "execution_count": 8,
     "metadata": {},
     "output_type": "execute_result"
    }
   ],
   "source": [
    "#Numerical\n",
    "merged_df.describe()"
   ]
  },
  {
   "cell_type": "markdown",
   "id": "3fab6d69",
   "metadata": {},
   "source": [
    "In our previous assignment, we did not include descriptive statistics but in this assignment we merged our new datasets to provide an overview. The first table summarizes the categorical variables such as offense date/time, precinct, and officer details. The count for each attribute appear to be 11 indicating complete data entries. What we've noticed so far with these statistics is that certain variables do not have enough variety like Crime Against Category and Precinct. We need to find a way to add more information to our dataset so we do not run into issues regarding a lack of data. This can lead to our project not being in-depth enough. \n",
    "\n",
    "The second table presents numerical data like officer years of service and geographical coordiabntes. The average year of SPD service is 5.82 years with a maximum service time of 12. The geographical coordinates provide a overview of where the incidents occurred across different areas in Seattle. However, similar to the previous table expanding our dataset can give us a more varied analysis. "
   ]
  },
  {
   "cell_type": "code",
   "execution_count": 9,
   "id": "9706338b",
   "metadata": {},
   "outputs": [
    {
     "data": {
      "image/png": "[encoded data removed]",
      "text/plain": [
       "<Figure size 1008x576 with 1 Axes>"
      ]
     },
     "metadata": {
      "needs_background": "light"
     },
     "output_type": "display_data"
    }
   ],
   "source": [
    "#Histogram\n",
    "plt.figure(figsize=(14, 8))\n",
    "sns.histplot(data=merged_df, x='Years of SPD Service', hue='Offense Parent Group', multiple='stack' ,palette = 'pastel')\n",
    "plt.title(\"Histogram of Officer's Years of Service by Offense Parent Group\")\n",
    "plt.show()"
   ]
  },
  {
   "cell_type": "markdown",
   "id": "8b7058fd",
   "metadata": {},
   "source": [
    "We took a look at comparing years of service against offense parent group categories using a histogram. We saw that officers with about 6 years of service were the largest group and they were involved in a wide variety of crimes such as larceny, vandalism, and vehicle theft. The officers with fewer than 3 years were a small group that was mostly involved in driving under the influence and theft cases. Officers with about 10 years of service were associated with fraud offenses suggesting that experienced police officers deal with more complex cases.  \n"
   ]
  },
  {
   "cell_type": "markdown",
   "id": "4b5caa6c",
   "metadata": {},
   "source": [
    "Techniques:\n",
    "\n",
    "Geospatial\n",
    "\n",
    "Geospatial analysis is important to our project because it will help visualize the distribution of fatal and non-fatal across different areas of Seattle. We can use the latitude and longitude data from both datasets to begin our analysis. Furthermore, using information about the precinct and sector will further support our analysis. Using geospatial analysis over other methods will help us detect clusters of incidents and if relationships to specific precinct boundaries exist. From here, we will be able to pin point if certain areas with more frequent shootings have higher crime rates. Mapping these variables will also aid in evaluating whether officer-related factors affect high-crime areas. \n"
   ]
  },
  {
   "cell_type": "code",
   "execution_count": 12,
   "id": "c1419197",
   "metadata": {},
   "outputs": [
    {
     "data": {
      "image/png": "[encoded data removed]",
      "text/plain": [
       "<Figure size 576x432 with 2 Axes>"
      ]
     },
     "metadata": {
      "needs_background": "light"
     },
     "output_type": "display_data"
    }
   ],
   "source": [
    "merged_df['Years of SPD Service'] = pd.to_numeric(merged_df['Years of SPD Service'], errors='coerce')\n",
    "heatmap = pd.pivot_table(merged_df, values='Years of SPD Service', index='Precinct', columns='Fatal')\n",
    "plt.figure(figsize=(8, 6))\n",
    "plt.imshow(heatmap, cmap='coolwarm', aspect='auto')\n",
    "plt.colorbar()\n",
    "plt.title('Heatmap of Years of SPD Service by Precinct and Fatality')\n",
    "plt.xlabel('Fatal (1 = Yes, 0 = No)')\n",
    "plt.ylabel('Precinct')\n",
    "plt.xticks([0, 1], ['No', 'Yes']) \n",
    "plt.yticks(range(len(heatmap.index)), heatmap.index)\n",
    "plt.show()"
   ]
  },
  {
   "cell_type": "markdown",
   "id": "e6b2dd81",
   "metadata": {},
   "source": [
    "Correlation Analysis\n",
    "\n",
    "Using correlation analysis to explore and examine relationships between various factors related to shooting and crime rates will give us an in-depth analysis. We chose correlation over other methods to help discover underlying relationships. We will be taking a look at the correlation between officer factors like years of service and will determine if these factors drive up crime rates. \n",
    "\n",
    "By performing correlation analysis, we will be able to determine if experienced officers are more likely to be involved in shootings or if certain types of incidents are the most frequent type of crime in a specific high-crime area. This will give us more information on crime patterns in Seattle. \n",
    "\n",
    "Results\n",
    "\n",
    "- Correlation matrix for numerical data in SPD Officer Shootings Data: Years of spd service, number of rounds fired, and subject age. The resulting matrix showed that there are no linear correlations between these numerical variables. \n",
    "\n",
    "- Further correlation analysis to uncover categorical patterns showed that there is not enough statistical evidence to support that there are differences in officer experience across the different Subject_Race categories.\n"
   ]
  },
  {
   "cell_type": "code",
   "execution_count": 24,
   "id": "a037cf9a",
   "metadata": {},
   "outputs": [
    {
     "name": "stdout",
     "output_type": "stream",
     "text": [
      "                      Years of SPD Service  Subject Age\n",
      "Years of SPD Service               1.00000      0.05524\n",
      "Subject Age                        0.05524      1.00000\n"
     ]
    },
    {
     "data": {
      "image/png": "[encoded data removed]",
      "text/plain": [
       "<Figure size 432x288 with 2 Axes>"
      ]
     },
     "metadata": {
      "needs_background": "light"
     },
     "output_type": "display_data"
    },
    {
     "name": "stdout",
     "output_type": "stream",
     "text": [
      "                      sum_sq     df       F    PR(>F)\n",
      "C(Subject_Race)   363.455925    5.0  1.3725  0.240245\n",
      "Residual         5772.926684  109.0     NaN       NaN\n"
     ]
    }
   ],
   "source": [
    "import seaborn as sns\n",
    "import matplotlib.pyplot as plt\n",
    "import pandas as pd\n",
    "import statsmodels.formula.api as smf\n",
    "import statsmodels.api as sm\n",
    "\n",
    "\n",
    "df = pd.read_csv('SPD.csv')\n",
    "df['Disciplined'] = df['Officer Injured'].apply(lambda x: 'Unknown' if x == 'No' else 'Yes')  # Assuming injured officer implies being disciplined\n",
    "# Remove null values & non numeric values in numeric columns\n",
    "numeric_columns = ['Years of SPD Service', 'Subject Age']\n",
    "for column in numeric_columns:\n",
    "   try:\n",
    "       df[column] = pd.to_numeric(df[column], errors='coerce')\n",
    "   except Exception as e:\n",
    "       print(f\"Error converting column '{column}': {e}\")\n",
    "corr_df = SPD.dropna(subset=numeric_columns)\n",
    "correlation_matrix = SPD[numeric_columns].corr()\n",
    "print(correlation_matrix.to_string())\n",
    "sns.heatmap(correlation_matrix, annot=True, cmap=\"viridis\")\n",
    "plt.title(\"Correlation Matrix\")\n",
    "plt.show()\n",
    "\n",
    "# Categorical patterns\n",
    "df = SPD\n",
    "#print(df.columns)\n",
    "# Rename columns to remove spaces\n",
    "new_column_names = {'Subject Race': 'Subject_Race',\n",
    "                   'Years of SPD Service': 'Officer_Experience'}\n",
    "rename_df = df.rename(columns=new_column_names)\n",
    "# Subject race & Officer years of service\n",
    "rename_df['Subject_Race'] = pd.Categorical(rename_df['Subject_Race'])\n",
    "model = smf.ols('Officer_Experience ~ C(Subject_Race)', data=rename_df).fit()\n",
    "anova_table = sm.stats.anova_lm(model, typ=2)\n",
    "print(anova_table)\n"
   ]
  },
  {
   "cell_type": "markdown",
   "id": "b4030788",
   "metadata": {},
   "source": [
    "Clustering\n",
    "\n",
    "We chose clustering as our third technique because we can group similar neighborhoods based on variables like the shooting type, officer factors and other crime characteristics. We will be able to see similarities in our datasets that we can’t see at first glance which is why we decided to go with clustering over other methods. \n",
    "If we group neighborhoods based on shooting rates, we can compare patterns of areas with different shooting outcomes. This can determine whether neighborhoods with more frequent fatal shootings have certain patterns such as officers involved have more experience or shootings end up as justified. \n"
   ]
  },
  {
   "cell_type": "code",
   "execution_count": 22,
   "id": "97861f95",
   "metadata": {},
   "outputs": [
    {
     "data": {
      "image/png": "[encoded data removed]",
      "text/plain": [
       "<Figure size 720x432 with 1 Axes>"
      ]
     },
     "metadata": {
      "needs_background": "light"
     },
     "output_type": "display_data"
    }
   ],
   "source": [
    "import pandas as pd\n",
    "import matplotlib.pyplot as plt\n",
    "from sklearn.cluster import KMeans\n",
    "from sklearn.preprocessing import StandardScaler\n",
    "from sklearn.decomposition import PCA\n",
    "import seaborn as sns\n",
    "\n",
    "\n",
    "spd_data = pd.read_csv('SPD.csv')\n",
    "\n",
    "\n",
    "# relevant features for clustering\n",
    "features = ['Subject Age', 'Fatal', 'Disposition', 'Officer Gender']\n",
    "\n",
    "\n",
    "# Drop rows with missing values\n",
    "cluster_data = spd_data[features].dropna()\n",
    "\n",
    "\n",
    "# Convert categorical data into numeric (Yes to 1, No to 0)\n",
    "cluster_data['Fatal'] = cluster_data['Fatal'].apply(lambda x: 1 if x == 'Yes' else 0)\n",
    "cluster_data['Officer Gender'] = cluster_data['Officer Gender'].apply(lambda x: 1 if x == 'Male' else 0)\n",
    "cluster_data['Disposition'] = cluster_data['Disposition'].apply(lambda x: 1 if x == 'Justified' else 0)\n",
    "\n",
    "\n",
    "# Convert 'Subject Age' to numeric\n",
    "cluster_data['Subject Age'] = pd.to_numeric(cluster_data['Subject Age'], errors='coerce')\n",
    "cluster_data = cluster_data.dropna()\n",
    "\n",
    "\n",
    "# Standardize the data\n",
    "scaler = StandardScaler()\n",
    "scaled_data = scaler.fit_transform(cluster_data)\n",
    "\n",
    "\n",
    "# Apply K-Means Clustering\n",
    "kmeans = KMeans(n_clusters=4)  #4 clusters\n",
    "kmeans.fit(scaled_data)\n",
    "cluster_data['Cluster'] = kmeans.labels_\n",
    "\n",
    "\n",
    "# Reduce dimensionality using PCA for visualization\n",
    "pca = PCA(n_components=2)  # 2D visualization\n",
    "pca_components = pca.fit_transform(scaled_data)\n",
    "\n",
    "\n",
    "# Create a DataFrame with the PCA components and the cluster labels\n",
    "pca_df = pd.DataFrame(data=pca_components, columns=['PC1', 'PC2'])\n",
    "pca_df['Cluster'] = cluster_data['Cluster']\n",
    "\n",
    "\n",
    "# Plot clusters\n",
    "plt.figure(figsize=(10, 6))\n",
    "sns.scatterplot(data=pca_df, x='PC1', y='PC2', hue='Cluster', palette='viridis', s=100)\n",
    "plt.title('Clustering of Neighborhoods Based on Shooting Characteristics')\n",
    "plt.xlabel('Principal Component 1')\n",
    "plt.ylabel('Principal Component 2')\n",
    "plt.grid(True)\n",
    "plt.show()\n"
   ]
  },
  {
   "cell_type": "markdown",
   "id": "285860e1",
   "metadata": {},
   "source": [
    "\n",
    "This graph represents the clustering of neighborhoods based on shooting characteristics using K-Means clustering and visualized through PCA. Four distinct clusters (0, 1, 2, 3) are shown, each represented by a different color, grouping neighborhoods with similar features such as subject age, shooting fatality, officer gender, and shooting disposition. PCA reduces the dataset's dimensions to two principal components, making it easier to visualize the clustering while retaining the most important variance. This visualization aims to reveal patterns in the data, such as which neighborhoods or incidents share common characteristics, enabling a better understanding of factors influencing shooting outcomes. This graph helps identify how variables like officer gender, subject age, or fatality rates may group similar incidents, offering insights for targeted interventions or crime prevention strategies.\n"
   ]
  },
  {
   "cell_type": "markdown",
   "id": "fc9fc4ee",
   "metadata": {},
   "source": [
    "Conclusion:\n",
    "\n",
    "The descriptive statistics showed us that we need more data in our merged dataset for a bigger variety. Given that our merged dataset has limited observations it is obvious that any analysis will not be accurate enough. To fix this we will need to merge our datasets on coordinate zones instead of matched longitude latitude. This could allow us to get more data that relates to each other so we can interpret the relationships better and more accurately. Our correlation analyssi will help us with comparing the relationships between shootings and crime rates. It is interesting to see from this assignment that the heat maps are a good way to show the heat zones where crime and shootings are the highest in King County. This will be crucial for our shiney web app because it can help us show where in the county crime rates and shootings are the highest most correlated. "
   ]
  }
 ],
 "metadata": {
  "kernelspec": {
   "display_name": "Python 3 (ipykernel)",
   "language": "python",
   "name": "python3"
  },
  "language_info": {
   "codemirror_mode": {
    "name": "ipython",
    "version": 3
   },
   "file_extension": ".py",
   "mimetype": "text/x-python",
   "name": "python",
   "nbconvert_exporter": "python",
   "pygments_lexer": "ipython3",
   "version": "3.6.2"
  }
 },
 "nbformat": 4,
 "nbformat_minor": 5
}
